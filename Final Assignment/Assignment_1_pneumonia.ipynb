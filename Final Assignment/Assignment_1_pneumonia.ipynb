{
  "nbformat": 4,
  "nbformat_minor": 0,
  "metadata": {
    "colab": {
      "provenance": [],
      "gpuType": "T4"
    },
    "kernelspec": {
      "name": "python3",
      "display_name": "Python 3"
    },
    "language_info": {
      "name": "python"
    },
    "accelerator": "GPU"
  },
  "cells": [
    {
      "cell_type": "code",
      "execution_count": 2,
      "metadata": {
        "id": "oqv0E55VTMUG"
      },
      "outputs": [],
      "source": [
        "import tensorflow as tf\n",
        "from tensorflow.keras.preprocessing.image import ImageDataGenerator\n",
        "from tensorflow.keras.models import Sequential\n",
        "from tensorflow.keras.layers import Conv2D, MaxPooling2D, Flatten, Dense\n"
      ]
    },
    {
      "cell_type": "code",
      "source": [
        "from google.colab import drive\n",
        "drive.mount('/content/drive')"
      ],
      "metadata": {
        "colab": {
          "base_uri": "https://localhost:8080/"
        },
        "id": "AmPUdx56wUvy",
        "outputId": "6cee45c9-54aa-49dd-e890-e9cc598c12d3"
      },
      "execution_count": 3,
      "outputs": [
        {
          "output_type": "stream",
          "name": "stdout",
          "text": [
            "Drive already mounted at /content/drive; to attempt to forcibly remount, call drive.mount(\"/content/drive\", force_remount=True).\n"
          ]
        }
      ]
    },
    {
      "cell_type": "code",
      "source": [
        "# Define directories for train, test, and validation datasets\n",
        "train_dir = '/content/drive/MyDrive/ML Pneumonia/train'\n",
        "test_dir = '/content/drive/MyDrive/ML Pneumonia/test'\n",
        "val_dir = '/content/drive/MyDrive/ML Pneumonia/val'"
      ],
      "metadata": {
        "id": "9XdQnDK9Z0CT"
      },
      "execution_count": 4,
      "outputs": []
    },
    {
      "cell_type": "code",
      "source": [
        "# Define image dimensions and batch size\n",
        "img_height, img_width = 150, 150\n",
        "batch_size = 32"
      ],
      "metadata": {
        "id": "88xXtXipZ1aT"
      },
      "execution_count": 5,
      "outputs": []
    },
    {
      "cell_type": "code",
      "source": [
        "# Create image data generators with data augmentation for the training set\n",
        "train_datagen = ImageDataGenerator(\n",
        "    rescale=1./255,\n",
        "    shear_range=0.2,\n",
        "    zoom_range=0.2,\n",
        "    horizontal_flip=True\n",
        ")"
      ],
      "metadata": {
        "id": "gkcV7eanZ23T"
      },
      "execution_count": 6,
      "outputs": []
    },
    {
      "cell_type": "code",
      "source": [
        "test_datagen = ImageDataGenerator(rescale=1./255)"
      ],
      "metadata": {
        "id": "WU_iYYN0Z4dz"
      },
      "execution_count": 7,
      "outputs": []
    },
    {
      "cell_type": "code",
      "source": [
        "train_generator = train_datagen.flow_from_directory(\n",
        "    train_dir,\n",
        "    target_size=(img_height, img_width),\n",
        "    batch_size=batch_size,\n",
        "    class_mode='binary'\n",
        ")"
      ],
      "metadata": {
        "id": "TCKVdZmOZ6pz",
        "colab": {
          "base_uri": "https://localhost:8080/"
        },
        "outputId": "e4989954-9899-4f0e-e573-5688d0fb842c"
      },
      "execution_count": 8,
      "outputs": [
        {
          "output_type": "stream",
          "name": "stdout",
          "text": [
            "Found 5216 images belonging to 2 classes.\n"
          ]
        }
      ]
    },
    {
      "cell_type": "code",
      "source": [
        "validation_generator = test_datagen.flow_from_directory(\n",
        "    val_dir,\n",
        "    target_size=(img_height, img_width),\n",
        "    batch_size=batch_size,\n",
        "    class_mode='binary'\n",
        ")"
      ],
      "metadata": {
        "id": "O6kcuzrNZ8Aj",
        "colab": {
          "base_uri": "https://localhost:8080/"
        },
        "outputId": "6ccdd9d5-714e-4ed9-d899-3d046cb78f83"
      },
      "execution_count": 9,
      "outputs": [
        {
          "output_type": "stream",
          "name": "stdout",
          "text": [
            "Found 16 images belonging to 2 classes.\n"
          ]
        }
      ]
    },
    {
      "cell_type": "code",
      "source": [
        "# Build the CNN model\n",
        "model = Sequential()\n",
        "model.add(Conv2D(32, (3, 3), input_shape=(img_height, img_width, 3), activation='relu'))\n",
        "model.add(MaxPooling2D(pool_size=(2, 2)))\n",
        "model.add(Conv2D(64, (3, 3), activation='relu'))\n",
        "model.add(MaxPooling2D(pool_size=(2, 2)))\n",
        "model.add(Conv2D(128, (3, 3), activation='relu'))\n",
        "model.add(MaxPooling2D(pool_size=(2, 2)))\n",
        "model.add(Flatten())\n",
        "model.add(Dense(128, activation='relu'))\n",
        "model.add(Dense(1, activation='sigmoid'))"
      ],
      "metadata": {
        "id": "-oLZCyHGZ9h1"
      },
      "execution_count": 11,
      "outputs": []
    },
    {
      "cell_type": "code",
      "source": [
        "# Compile the model\n",
        "model.compile(optimizer='adam', loss='binary_crossentropy', metrics=['accuracy'])\n"
      ],
      "metadata": {
        "id": "Yt2RyGJ9Z_ab"
      },
      "execution_count": 12,
      "outputs": []
    },
    {
      "cell_type": "code",
      "source": [
        "print(\"Number of batches in the training generator:\", len(train_generator))\n",
        "print(\"Filenames in the first batch:\", train_generator.filenames[:batch_size])"
      ],
      "metadata": {
        "colab": {
          "base_uri": "https://localhost:8080/"
        },
        "id": "2ZpooVaw3cVQ",
        "outputId": "1688ca6f-bb0a-4ec5-c875-e259c8b8a327"
      },
      "execution_count": 13,
      "outputs": [
        {
          "output_type": "stream",
          "name": "stdout",
          "text": [
            "Number of batches in the training generator: 163\n",
            "Filenames in the first batch: ['NORMAL/IM-0115-0001.jpeg', 'NORMAL/IM-0117-0001.jpeg', 'NORMAL/IM-0119-0001.jpeg', 'NORMAL/IM-0122-0001.jpeg', 'NORMAL/IM-0125-0001.jpeg', 'NORMAL/IM-0127-0001.jpeg', 'NORMAL/IM-0128-0001.jpeg', 'NORMAL/IM-0129-0001.jpeg', 'NORMAL/IM-0131-0001.jpeg', 'NORMAL/IM-0133-0001.jpeg', 'NORMAL/IM-0135-0001.jpeg', 'NORMAL/IM-0137-0001.jpeg', 'NORMAL/IM-0140-0001.jpeg', 'NORMAL/IM-0141-0001.jpeg', 'NORMAL/IM-0143-0001.jpeg', 'NORMAL/IM-0145-0001.jpeg', 'NORMAL/IM-0147-0001.jpeg', 'NORMAL/IM-0149-0001.jpeg', 'NORMAL/IM-0151-0001.jpeg', 'NORMAL/IM-0152-0001.jpeg', 'NORMAL/IM-0154-0001.jpeg', 'NORMAL/IM-0156-0001.jpeg', 'NORMAL/IM-0158-0001.jpeg', 'NORMAL/IM-0160-0001.jpeg', 'NORMAL/IM-0162-0001.jpeg', 'NORMAL/IM-0164-0001.jpeg', 'NORMAL/IM-0166-0001.jpeg', 'NORMAL/IM-0168-0001.jpeg', 'NORMAL/IM-0170-0001.jpeg', 'NORMAL/IM-0172-0001.jpeg', 'NORMAL/IM-0176-0001.jpeg', 'NORMAL/IM-0177-0001.jpeg']\n"
          ]
        }
      ]
    },
    {
      "cell_type": "code",
      "source": [
        "# Train the model\n",
        "history = model.fit(\n",
        "    train_generator,\n",
        "    steps_per_epoch=len(train_generator),\n",
        "    epochs=8,\n",
        "    validation_data=validation_generator,\n",
        "    validation_steps=len(validation_generator)\n",
        ")"
      ],
      "metadata": {
        "id": "kLk-3MeraBKc",
        "colab": {
          "base_uri": "https://localhost:8080/"
        },
        "outputId": "2c553267-e3e0-48c7-f23a-2df13e53d3a8"
      },
      "execution_count": 14,
      "outputs": [
        {
          "output_type": "stream",
          "name": "stdout",
          "text": [
            "Epoch 1/8\n",
            "163/163 [==============================] - 157s 572ms/step - loss: 0.3680 - accuracy: 0.8401 - val_loss: 0.3737 - val_accuracy: 0.8750\n",
            "Epoch 2/8\n",
            "163/163 [==============================] - 89s 549ms/step - loss: 0.1996 - accuracy: 0.9204 - val_loss: 0.5709 - val_accuracy: 0.7500\n",
            "Epoch 3/8\n",
            "163/163 [==============================] - 88s 542ms/step - loss: 0.1806 - accuracy: 0.9279 - val_loss: 0.8185 - val_accuracy: 0.6250\n",
            "Epoch 4/8\n",
            "163/163 [==============================] - 88s 539ms/step - loss: 0.1704 - accuracy: 0.9306 - val_loss: 0.3380 - val_accuracy: 0.8125\n",
            "Epoch 5/8\n",
            "163/163 [==============================] - 88s 540ms/step - loss: 0.1829 - accuracy: 0.9270 - val_loss: 0.3266 - val_accuracy: 0.8750\n",
            "Epoch 6/8\n",
            "163/163 [==============================] - 90s 553ms/step - loss: 0.1638 - accuracy: 0.9331 - val_loss: 0.3190 - val_accuracy: 0.8750\n",
            "Epoch 7/8\n",
            "163/163 [==============================] - 89s 548ms/step - loss: 0.1447 - accuracy: 0.9408 - val_loss: 1.6536 - val_accuracy: 0.6250\n",
            "Epoch 8/8\n",
            "163/163 [==============================] - 89s 544ms/step - loss: 0.1430 - accuracy: 0.9473 - val_loss: 0.4549 - val_accuracy: 0.7500\n"
          ]
        }
      ]
    },
    {
      "cell_type": "code",
      "source": [
        "# Evaluate the model on the test set\n",
        "test_generator = test_datagen.flow_from_directory(\n",
        "    test_dir,\n",
        "    target_size=(img_height, img_width),\n",
        "    batch_size=batch_size,\n",
        "    class_mode='binary'\n",
        ")"
      ],
      "metadata": {
        "id": "Cdyq6kUTaCk7",
        "colab": {
          "base_uri": "https://localhost:8080/"
        },
        "outputId": "667309e8-5805-4e0b-ce4f-c00e73423f9e"
      },
      "execution_count": 15,
      "outputs": [
        {
          "output_type": "stream",
          "name": "stdout",
          "text": [
            "Found 624 images belonging to 2 classes.\n"
          ]
        }
      ]
    },
    {
      "cell_type": "code",
      "source": [
        "test_loss, test_acc = model.evaluate(test_generator)\n",
        "print(f'Test accuracy: {test_acc}')"
      ],
      "metadata": {
        "id": "gADR9ir3aELc",
        "colab": {
          "base_uri": "https://localhost:8080/"
        },
        "outputId": "cac6f9ab-afb6-4f4a-82e1-bdf173a4dee6"
      },
      "execution_count": 16,
      "outputs": [
        {
          "output_type": "stream",
          "name": "stdout",
          "text": [
            "20/20 [==============================] - 68s 4s/step - loss: 0.3741 - accuracy: 0.8798\n",
            "Test accuracy: 0.879807710647583\n"
          ]
        }
      ]
    },
    {
      "cell_type": "code",
      "source": [
        "# Plot training history\n",
        "import matplotlib.pyplot as plt"
      ],
      "metadata": {
        "id": "rex4JoxeaFiT"
      },
      "execution_count": 17,
      "outputs": []
    },
    {
      "cell_type": "code",
      "source": [
        "plt.plot(history.history['accuracy'], label='Train Accuracy')\n",
        "plt.plot(history.history['val_accuracy'], label='Validation Accuracy')\n",
        "plt.xlabel('Epochs')\n",
        "plt.ylabel('Accuracy')\n",
        "plt.legend()\n",
        "plt.show()"
      ],
      "metadata": {
        "id": "hGEuGO8KaFo9",
        "colab": {
          "base_uri": "https://localhost:8080/",
          "height": 449
        },
        "outputId": "2667cdec-59d9-4fa2-a062-3edd0b876552"
      },
      "execution_count": 18,
      "outputs": [
        {
          "output_type": "display_data",
          "data": {
            "text/plain": [
              "<Figure size 640x480 with 1 Axes>"
            ],
            "image/png": "[encoded data removed]"
          },
          "metadata": {}
        }
      ]
    }
  ]
}